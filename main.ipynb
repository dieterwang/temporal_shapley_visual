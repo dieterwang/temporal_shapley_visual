{
 "cells": [
  {
   "cell_type": "markdown",
   "metadata": {},
   "source": [
    "# Plot feature importances over time\n",
    "\n",
    "This script plots Shapley feature importances -- which can be positive or negative -- over time. The Shapley values are stacked on top (or below) each other, depending on which sign they carry in each period. "
   ]
  },
  {
   "cell_type": "code",
   "execution_count": 9,
   "metadata": {},
   "outputs": [],
   "source": [
    "import pandas as pd\n",
    "import numpy as np\n",
    "\n",
    "import matplotlib.pyplot as plt\n",
    "import seaborn as sns"
   ]
  },
  {
   "cell_type": "markdown",
   "metadata": {},
   "source": [
    "# Simulate\n",
    "\n",
    "We simulate a hypothetical set of feature importances that change over time. This could be the output of `explainer.shap_values` (see [here](https://shap.readthedocs.io/en/latest/api.html#explainers)) as long as it has the structure of \n",
    "* features in the columns\n",
    "* date/time in the rows\n",
    "\n",
    "The `feature_importances.csv` file serves as an example."
   ]
  },
  {
   "cell_type": "code",
   "execution_count": 10,
   "metadata": {},
   "outputs": [],
   "source": [
    "n_groups = 8\n",
    "groups = [f'feature_{i+1}' for i in range(n_groups)]"
   ]
  },
  {
   "cell_type": "code",
   "execution_count": 11,
   "metadata": {},
   "outputs": [],
   "source": [
    "dates = pd.date_range('2000', '2010', freq='MS')\n",
    "n_dates = len(dates)"
   ]
  },
  {
   "cell_type": "code",
   "execution_count": 12,
   "metadata": {},
   "outputs": [],
   "source": [
    "# set seed for reproduciblity\n",
    "np.random.seed(123123)\n",
    "\n",
    "df_shap = pd.DataFrame(np.random.randn(n_dates, n_groups)).cumsum()\n",
    "df_shap.index = pd.Index(dates, name='date')\n",
    "df_shap.columns = pd.Index(groups, name='features')"
   ]
  },
  {
   "cell_type": "code",
   "execution_count": 13,
   "metadata": {},
   "outputs": [
    {
     "data": {
      "text/html": [
       "<div>\n",
       "<style scoped>\n",
       "    .dataframe tbody tr th:only-of-type {\n",
       "        vertical-align: middle;\n",
       "    }\n",
       "\n",
       "    .dataframe tbody tr th {\n",
       "        vertical-align: top;\n",
       "    }\n",
       "\n",
       "    .dataframe thead th {\n",
       "        text-align: right;\n",
       "    }\n",
       "</style>\n",
       "<table border=\"1\" class=\"dataframe\">\n",
       "  <thead>\n",
       "    <tr style=\"text-align: right;\">\n",
       "      <th>features</th>\n",
       "      <th>feature_1</th>\n",
       "      <th>feature_2</th>\n",
       "      <th>feature_3</th>\n",
       "      <th>feature_4</th>\n",
       "      <th>feature_5</th>\n",
       "      <th>feature_6</th>\n",
       "      <th>feature_7</th>\n",
       "      <th>feature_8</th>\n",
       "    </tr>\n",
       "    <tr>\n",
       "      <th>date</th>\n",
       "      <th></th>\n",
       "      <th></th>\n",
       "      <th></th>\n",
       "      <th></th>\n",
       "      <th></th>\n",
       "      <th></th>\n",
       "      <th></th>\n",
       "      <th></th>\n",
       "    </tr>\n",
       "  </thead>\n",
       "  <tbody>\n",
       "    <tr>\n",
       "      <th>2000-01-01</th>\n",
       "      <td>0.835628</td>\n",
       "      <td>-0.531186</td>\n",
       "      <td>-0.297446</td>\n",
       "      <td>1.764539</td>\n",
       "      <td>-1.572674</td>\n",
       "      <td>0.117892</td>\n",
       "      <td>1.186565</td>\n",
       "      <td>-0.934948</td>\n",
       "    </tr>\n",
       "    <tr>\n",
       "      <th>2000-02-01</th>\n",
       "      <td>0.944532</td>\n",
       "      <td>0.643436</td>\n",
       "      <td>1.195350</td>\n",
       "      <td>1.625235</td>\n",
       "      <td>-2.191643</td>\n",
       "      <td>0.316863</td>\n",
       "      <td>0.523929</td>\n",
       "      <td>-1.233023</td>\n",
       "    </tr>\n",
       "    <tr>\n",
       "      <th>2000-03-01</th>\n",
       "      <td>0.204511</td>\n",
       "      <td>1.023554</td>\n",
       "      <td>0.978178</td>\n",
       "      <td>2.136770</td>\n",
       "      <td>-1.036732</td>\n",
       "      <td>-1.154581</td>\n",
       "      <td>0.811541</td>\n",
       "      <td>-0.538136</td>\n",
       "    </tr>\n",
       "    <tr>\n",
       "      <th>2000-04-01</th>\n",
       "      <td>0.385580</td>\n",
       "      <td>1.675509</td>\n",
       "      <td>-0.500919</td>\n",
       "      <td>1.588094</td>\n",
       "      <td>-0.004119</td>\n",
       "      <td>-2.764649</td>\n",
       "      <td>1.474409</td>\n",
       "      <td>-0.473927</td>\n",
       "    </tr>\n",
       "    <tr>\n",
       "      <th>2000-05-01</th>\n",
       "      <td>1.304669</td>\n",
       "      <td>-0.467021</td>\n",
       "      <td>1.278840</td>\n",
       "      <td>1.916097</td>\n",
       "      <td>-0.473849</td>\n",
       "      <td>-1.418401</td>\n",
       "      <td>1.174025</td>\n",
       "      <td>-0.680774</td>\n",
       "    </tr>\n",
       "  </tbody>\n",
       "</table>\n",
       "</div>"
      ],
      "text/plain": [
       "features    feature_1  feature_2  feature_3  feature_4  feature_5  feature_6  \\\n",
       "date                                                                           \n",
       "2000-01-01   0.835628  -0.531186  -0.297446   1.764539  -1.572674   0.117892   \n",
       "2000-02-01   0.944532   0.643436   1.195350   1.625235  -2.191643   0.316863   \n",
       "2000-03-01   0.204511   1.023554   0.978178   2.136770  -1.036732  -1.154581   \n",
       "2000-04-01   0.385580   1.675509  -0.500919   1.588094  -0.004119  -2.764649   \n",
       "2000-05-01   1.304669  -0.467021   1.278840   1.916097  -0.473849  -1.418401   \n",
       "\n",
       "features    feature_7  feature_8  \n",
       "date                              \n",
       "2000-01-01   1.186565  -0.934948  \n",
       "2000-02-01   0.523929  -1.233023  \n",
       "2000-03-01   0.811541  -0.538136  \n",
       "2000-04-01   1.474409  -0.473927  \n",
       "2000-05-01   1.174025  -0.680774  "
      ]
     },
     "execution_count": 13,
     "metadata": {},
     "output_type": "execute_result"
    }
   ],
   "source": [
    "df_shap.head()"
   ]
  },
  {
   "cell_type": "code",
   "execution_count": 14,
   "metadata": {},
   "outputs": [],
   "source": [
    "df_shap.to_csv('feature_importances.csv')"
   ]
  },
  {
   "cell_type": "markdown",
   "metadata": {},
   "source": [
    "# Plot"
   ]
  },
  {
   "cell_type": "code",
   "execution_count": 15,
   "metadata": {},
   "outputs": [],
   "source": [
    "# assign a color for each feature\n",
    "colors = dict(zip(\n",
    "    groups,\n",
    "    sns.color_palette('tab20', n_colors=n_groups)\n",
    "))"
   ]
  },
  {
   "cell_type": "code",
   "execution_count": 16,
   "metadata": {},
   "outputs": [
    {
     "data": {
      "image/png": "[encoded data removed]",
      "text/plain": [
       "<Figure size 1000x500 with 1 Axes>"
      ]
     },
     "metadata": {},
     "output_type": "display_data"
    }
   ],
   "source": [
    "fig, ax = plt.subplots(figsize=[10,5])\n",
    "\n",
    "for dt, fi in df_shap.T.items():\n",
    "    v_pos = 0\n",
    "    v_neg = 0\n",
    "\n",
    "    for i, (key, val) in enumerate(fi.items()):\n",
    "        c = colors[key]\n",
    "        if val > 0:\n",
    "            ax.plot([dt, dt], [v_pos, v_pos + val], zorder=-i, c=c, lw=4, solid_capstyle='butt')\n",
    "            v_pos += val\n",
    "        elif val < 0:\n",
    "            ax.plot([dt, dt], [v_neg, v_neg + val], zorder=i, c=c, lw=4, solid_capstyle='butt')\n",
    "            v_neg += val\n",
    "\n",
    "for i, (key, val) in enumerate(fi.items()):\n",
    "    c = colors[key]\n",
    "    ax.plot(np.nan, np.nan, color=c, label=key, lw=4)\n",
    "    \n",
    "ax.axhline(0, lw=.6, c='k')\n",
    "ax.spines['right'].set_visible(False)\n",
    "ax.spines['top'].set_visible(False)\n",
    "ax.legend()\n",
    "ax.set_title('Shapley feature importance (additive)', loc='left')\n",
    "\n",
    "fig.savefig('plot.png')"
   ]
  }
 ],
 "metadata": {
  "kernelspec": {
   "display_name": "temporal_shapley_visual",
   "language": "python",
   "name": "python3"
  },
  "language_info": {
   "codemirror_mode": {
    "name": "ipython",
    "version": 3
   },
   "file_extension": ".py",
   "mimetype": "text/x-python",
   "name": "python",
   "nbconvert_exporter": "python",
   "pygments_lexer": "ipython3",
   "version": "3.13.1"
  }
 },
 "nbformat": 4,
 "nbformat_minor": 2
}
